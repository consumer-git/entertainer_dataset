{
 "cells": [
  {
   "cell_type": "code",
   "execution_count": 1,
   "metadata": {},
   "outputs": [],
   "source": [
    "import numpy as np \n",
    "import pandas as pd"
   ]
  },
  {
   "cell_type": "code",
   "execution_count": 2,
   "metadata": {},
   "outputs": [],
   "source": [
    "df_basic=pd.read_excel('/Users/merrillsequeira/Documents/docs/UPGRAD_PGDDS_MODULES/INEURON_INTERNSHIP/entertain_proj/Entertainer - Basic Info.xlsx')\n",
    "df_brk=pd.read_excel('/Users/merrillsequeira/Documents/docs/UPGRAD_PGDDS_MODULES/INEURON_INTERNSHIP/entertain_proj/Entertainer - Breakthrough Info.xlsx')\n",
    "df_last=pd.read_excel('/Users/merrillsequeira/Documents/docs/UPGRAD_PGDDS_MODULES/INEURON_INTERNSHIP/entertain_proj/Entertainer - Last work Info.xlsx')"
   ]
  },
  {
   "cell_type": "code",
   "execution_count": 3,
   "metadata": {},
   "outputs": [
    {
     "data": {
      "text/plain": [
       "(Index(['Entertainer', 'Gender (traditional)', 'Birth Year'], dtype='object'),\n",
       " Index(['Entertainer', 'Year of Breakthrough/#1 Hit/Award Nomination',\n",
       "        'Breakthrough Name', 'Year of First Oscar/Grammy/Emmy'],\n",
       "       dtype='object'),\n",
       " Index(['Entertainer', 'Year of Last Major Work (arguable)', 'Year of Death'], dtype='object'))"
      ]
     },
     "execution_count": 3,
     "metadata": {},
     "output_type": "execute_result"
    }
   ],
   "source": [
    "df_basic.columns, df_brk.columns, df_last.columns"
   ]
  },
  {
   "cell_type": "code",
   "execution_count": 4,
   "metadata": {},
   "outputs": [
    {
     "data": {
      "text/plain": [
       "(70, 70, 70, 70, 70, 70)"
      ]
     },
     "execution_count": 4,
     "metadata": {},
     "output_type": "execute_result"
    }
   ],
   "source": [
    "len(df_basic.Entertainer) , len(df_brk.Entertainer) , len(df_last.Entertainer),  df_basic.Entertainer.nunique(), df_brk.Entertainer.nunique(), df_last.Entertainer.nunique()"
   ]
  },
  {
   "cell_type": "code",
   "execution_count": 5,
   "metadata": {},
   "outputs": [],
   "source": [
    "#performing joins on 'Entertainer' cols \n",
    "\n",
    "df=df_basic.merge(df_brk,on='Entertainer').merge(df_last,on='Entertainer')\n"
   ]
  },
  {
   "cell_type": "code",
   "execution_count": 6,
   "metadata": {},
   "outputs": [
    {
     "data": {
      "text/html": [
       "<div>\n",
       "<style scoped>\n",
       "    .dataframe tbody tr th:only-of-type {\n",
       "        vertical-align: middle;\n",
       "    }\n",
       "\n",
       "    .dataframe tbody tr th {\n",
       "        vertical-align: top;\n",
       "    }\n",
       "\n",
       "    .dataframe thead th {\n",
       "        text-align: right;\n",
       "    }\n",
       "</style>\n",
       "<table border=\"1\" class=\"dataframe\">\n",
       "  <thead>\n",
       "    <tr style=\"text-align: right;\">\n",
       "      <th></th>\n",
       "      <th>Entertainer</th>\n",
       "      <th>Gender (traditional)</th>\n",
       "      <th>Birth Year</th>\n",
       "      <th>Year of Breakthrough/#1 Hit/Award Nomination</th>\n",
       "      <th>Breakthrough Name</th>\n",
       "      <th>Year of First Oscar/Grammy/Emmy</th>\n",
       "      <th>Year of Last Major Work (arguable)</th>\n",
       "      <th>Year of Death</th>\n",
       "    </tr>\n",
       "  </thead>\n",
       "  <tbody>\n",
       "    <tr>\n",
       "      <th>0</th>\n",
       "      <td>Adele</td>\n",
       "      <td>F</td>\n",
       "      <td>1988</td>\n",
       "      <td>2008</td>\n",
       "      <td>19</td>\n",
       "      <td>2009.0</td>\n",
       "      <td>2016</td>\n",
       "      <td>NaN</td>\n",
       "    </tr>\n",
       "    <tr>\n",
       "      <th>1</th>\n",
       "      <td>Angelina Jolie</td>\n",
       "      <td>F</td>\n",
       "      <td>1975</td>\n",
       "      <td>1999</td>\n",
       "      <td>Girl, Interrupted</td>\n",
       "      <td>1999.0</td>\n",
       "      <td>2016</td>\n",
       "      <td>NaN</td>\n",
       "    </tr>\n",
       "    <tr>\n",
       "      <th>2</th>\n",
       "      <td>Aretha Franklin</td>\n",
       "      <td>F</td>\n",
       "      <td>1942</td>\n",
       "      <td>1967</td>\n",
       "      <td>I Never Loved a Man (The Way I Love You)</td>\n",
       "      <td>1968.0</td>\n",
       "      <td>2014</td>\n",
       "      <td>NaN</td>\n",
       "    </tr>\n",
       "    <tr>\n",
       "      <th>3</th>\n",
       "      <td>Bette Davis</td>\n",
       "      <td>F</td>\n",
       "      <td>1908</td>\n",
       "      <td>1934</td>\n",
       "      <td>Of Human Bondage</td>\n",
       "      <td>1935.0</td>\n",
       "      <td>1989</td>\n",
       "      <td>1989.0</td>\n",
       "    </tr>\n",
       "    <tr>\n",
       "      <th>4</th>\n",
       "      <td>Betty White</td>\n",
       "      <td>F</td>\n",
       "      <td>1922</td>\n",
       "      <td>1952</td>\n",
       "      <td>Life with Elilzabeth</td>\n",
       "      <td>1976.0</td>\n",
       "      <td>2016</td>\n",
       "      <td>NaN</td>\n",
       "    </tr>\n",
       "  </tbody>\n",
       "</table>\n",
       "</div>"
      ],
      "text/plain": [
       "       Entertainer Gender (traditional)  Birth Year  \\\n",
       "0            Adele                    F        1988   \n",
       "1   Angelina Jolie                    F        1975   \n",
       "2  Aretha Franklin                    F        1942   \n",
       "3      Bette Davis                    F        1908   \n",
       "4      Betty White                    F        1922   \n",
       "\n",
       "   Year of Breakthrough/#1 Hit/Award Nomination  \\\n",
       "0                                          2008   \n",
       "1                                          1999   \n",
       "2                                          1967   \n",
       "3                                          1934   \n",
       "4                                          1952   \n",
       "\n",
       "                          Breakthrough Name  Year of First Oscar/Grammy/Emmy  \\\n",
       "0                                        19                           2009.0   \n",
       "1                         Girl, Interrupted                           1999.0   \n",
       "2  I Never Loved a Man (The Way I Love You)                           1968.0   \n",
       "3                          Of Human Bondage                           1935.0   \n",
       "4                      Life with Elilzabeth                           1976.0   \n",
       "\n",
       "   Year of Last Major Work (arguable)  Year of Death  \n",
       "0                                2016            NaN  \n",
       "1                                2016            NaN  \n",
       "2                                2014            NaN  \n",
       "3                                1989         1989.0  \n",
       "4                                2016            NaN  "
      ]
     },
     "execution_count": 6,
     "metadata": {},
     "output_type": "execute_result"
    }
   ],
   "source": [
    "df.head()"
   ]
  },
  {
   "cell_type": "markdown",
   "metadata": {},
   "source": [
    "#### some pre EDA tasks \n",
    "- rename cols\n",
    "- make age columns from 'year of death' or 'todays date' - 'birth year' column \n",
    "- one hot encode gender \n",
    "- make all dates datetime "
   ]
  },
  {
   "cell_type": "code",
   "execution_count": 7,
   "metadata": {},
   "outputs": [
    {
     "data": {
      "text/plain": [
       "Index(['Entertainer', 'Gender (traditional)', 'Birth Year',\n",
       "       'Year of Breakthrough/#1 Hit/Award Nomination', 'Breakthrough Name',\n",
       "       'Year of First Oscar/Grammy/Emmy', 'Year of Last Major Work (arguable)',\n",
       "       'Year of Death'],\n",
       "      dtype='object')"
      ]
     },
     "execution_count": 7,
     "metadata": {},
     "output_type": "execute_result"
    }
   ],
   "source": [
    "df.columns"
   ]
  },
  {
   "cell_type": "code",
   "execution_count": 8,
   "metadata": {},
   "outputs": [],
   "source": [
    "df.rename(columns={'Gender (traditional)':'Gender','Birth Year':'Birth_Year','Year of Breakthrough/#1 Hit/Award Nomination': 'Yr_of_breakout','Breakthrough Name':'breakthrough_movie','Year of First Oscar/Grammy/Emmy':'yr_of_first_award','Year of Last Major Work (arguable)':'last_major_work','Year of Death':'yr_of_death'},  inplace=True)"
   ]
  },
  {
   "cell_type": "code",
   "execution_count": 9,
   "metadata": {},
   "outputs": [
    {
     "data": {
      "text/html": [
       "<div>\n",
       "<style scoped>\n",
       "    .dataframe tbody tr th:only-of-type {\n",
       "        vertical-align: middle;\n",
       "    }\n",
       "\n",
       "    .dataframe tbody tr th {\n",
       "        vertical-align: top;\n",
       "    }\n",
       "\n",
       "    .dataframe thead th {\n",
       "        text-align: right;\n",
       "    }\n",
       "</style>\n",
       "<table border=\"1\" class=\"dataframe\">\n",
       "  <thead>\n",
       "    <tr style=\"text-align: right;\">\n",
       "      <th></th>\n",
       "      <th>Entertainer</th>\n",
       "      <th>Gender</th>\n",
       "      <th>Birth_Year</th>\n",
       "      <th>Yr_of_breakout</th>\n",
       "      <th>breakthrough_movie</th>\n",
       "      <th>yr_of_first_award</th>\n",
       "      <th>last_major_work</th>\n",
       "      <th>yr_of_death</th>\n",
       "    </tr>\n",
       "  </thead>\n",
       "  <tbody>\n",
       "    <tr>\n",
       "      <th>0</th>\n",
       "      <td>Adele</td>\n",
       "      <td>F</td>\n",
       "      <td>1988</td>\n",
       "      <td>2008</td>\n",
       "      <td>19</td>\n",
       "      <td>2009.0</td>\n",
       "      <td>2016</td>\n",
       "      <td>NaN</td>\n",
       "    </tr>\n",
       "    <tr>\n",
       "      <th>1</th>\n",
       "      <td>Angelina Jolie</td>\n",
       "      <td>F</td>\n",
       "      <td>1975</td>\n",
       "      <td>1999</td>\n",
       "      <td>Girl, Interrupted</td>\n",
       "      <td>1999.0</td>\n",
       "      <td>2016</td>\n",
       "      <td>NaN</td>\n",
       "    </tr>\n",
       "    <tr>\n",
       "      <th>2</th>\n",
       "      <td>Aretha Franklin</td>\n",
       "      <td>F</td>\n",
       "      <td>1942</td>\n",
       "      <td>1967</td>\n",
       "      <td>I Never Loved a Man (The Way I Love You)</td>\n",
       "      <td>1968.0</td>\n",
       "      <td>2014</td>\n",
       "      <td>NaN</td>\n",
       "    </tr>\n",
       "    <tr>\n",
       "      <th>3</th>\n",
       "      <td>Bette Davis</td>\n",
       "      <td>F</td>\n",
       "      <td>1908</td>\n",
       "      <td>1934</td>\n",
       "      <td>Of Human Bondage</td>\n",
       "      <td>1935.0</td>\n",
       "      <td>1989</td>\n",
       "      <td>1989.0</td>\n",
       "    </tr>\n",
       "    <tr>\n",
       "      <th>4</th>\n",
       "      <td>Betty White</td>\n",
       "      <td>F</td>\n",
       "      <td>1922</td>\n",
       "      <td>1952</td>\n",
       "      <td>Life with Elilzabeth</td>\n",
       "      <td>1976.0</td>\n",
       "      <td>2016</td>\n",
       "      <td>NaN</td>\n",
       "    </tr>\n",
       "  </tbody>\n",
       "</table>\n",
       "</div>"
      ],
      "text/plain": [
       "       Entertainer Gender  Birth_Year  Yr_of_breakout  \\\n",
       "0            Adele      F        1988            2008   \n",
       "1   Angelina Jolie      F        1975            1999   \n",
       "2  Aretha Franklin      F        1942            1967   \n",
       "3      Bette Davis      F        1908            1934   \n",
       "4      Betty White      F        1922            1952   \n",
       "\n",
       "                         breakthrough_movie  yr_of_first_award  \\\n",
       "0                                        19             2009.0   \n",
       "1                         Girl, Interrupted             1999.0   \n",
       "2  I Never Loved a Man (The Way I Love You)             1968.0   \n",
       "3                          Of Human Bondage             1935.0   \n",
       "4                      Life with Elilzabeth             1976.0   \n",
       "\n",
       "   last_major_work  yr_of_death  \n",
       "0             2016          NaN  \n",
       "1             2016          NaN  \n",
       "2             2014          NaN  \n",
       "3             1989       1989.0  \n",
       "4             2016          NaN  "
      ]
     },
     "execution_count": 9,
     "metadata": {},
     "output_type": "execute_result"
    }
   ],
   "source": [
    "df.head()"
   ]
  },
  {
   "cell_type": "code",
   "execution_count": 10,
   "metadata": {},
   "outputs": [
    {
     "name": "stdout",
     "output_type": "stream",
     "text": [
      "<class 'pandas.core.frame.DataFrame'>\n",
      "Int64Index: 70 entries, 0 to 69\n",
      "Data columns (total 8 columns):\n",
      " #   Column              Non-Null Count  Dtype  \n",
      "---  ------              --------------  -----  \n",
      " 0   Entertainer         70 non-null     object \n",
      " 1   Gender              70 non-null     object \n",
      " 2   Birth_Year          70 non-null     int64  \n",
      " 3   Yr_of_breakout      70 non-null     int64  \n",
      " 4   breakthrough_movie  70 non-null     object \n",
      " 5   yr_of_first_award   64 non-null     float64\n",
      " 6   last_major_work     70 non-null     int64  \n",
      " 7   yr_of_death         30 non-null     float64\n",
      "dtypes: float64(2), int64(3), object(3)\n",
      "memory usage: 4.9+ KB\n"
     ]
    }
   ],
   "source": [
    "df.info()"
   ]
  },
  {
   "cell_type": "code",
   "execution_count": 11,
   "metadata": {},
   "outputs": [
    {
     "data": {
      "text/html": [
       "<div>\n",
       "<style scoped>\n",
       "    .dataframe tbody tr th:only-of-type {\n",
       "        vertical-align: middle;\n",
       "    }\n",
       "\n",
       "    .dataframe tbody tr th {\n",
       "        vertical-align: top;\n",
       "    }\n",
       "\n",
       "    .dataframe thead th {\n",
       "        text-align: right;\n",
       "    }\n",
       "</style>\n",
       "<table border=\"1\" class=\"dataframe\">\n",
       "  <thead>\n",
       "    <tr style=\"text-align: right;\">\n",
       "      <th></th>\n",
       "      <th>Entertainer</th>\n",
       "      <th>Gender</th>\n",
       "      <th>Birth_Year</th>\n",
       "      <th>Yr_of_breakout</th>\n",
       "      <th>breakthrough_movie</th>\n",
       "      <th>yr_of_first_award</th>\n",
       "      <th>last_major_work</th>\n",
       "      <th>yr_of_death</th>\n",
       "    </tr>\n",
       "  </thead>\n",
       "  <tbody>\n",
       "    <tr>\n",
       "      <th>0</th>\n",
       "      <td>Adele</td>\n",
       "      <td>F</td>\n",
       "      <td>1988</td>\n",
       "      <td>2008</td>\n",
       "      <td>19</td>\n",
       "      <td>2009.0</td>\n",
       "      <td>2016</td>\n",
       "      <td>NaN</td>\n",
       "    </tr>\n",
       "    <tr>\n",
       "      <th>1</th>\n",
       "      <td>Angelina Jolie</td>\n",
       "      <td>F</td>\n",
       "      <td>1975</td>\n",
       "      <td>1999</td>\n",
       "      <td>Girl, Interrupted</td>\n",
       "      <td>1999.0</td>\n",
       "      <td>2016</td>\n",
       "      <td>NaN</td>\n",
       "    </tr>\n",
       "    <tr>\n",
       "      <th>2</th>\n",
       "      <td>Aretha Franklin</td>\n",
       "      <td>F</td>\n",
       "      <td>1942</td>\n",
       "      <td>1967</td>\n",
       "      <td>I Never Loved a Man (The Way I Love You)</td>\n",
       "      <td>1968.0</td>\n",
       "      <td>2014</td>\n",
       "      <td>NaN</td>\n",
       "    </tr>\n",
       "    <tr>\n",
       "      <th>3</th>\n",
       "      <td>Bette Davis</td>\n",
       "      <td>F</td>\n",
       "      <td>1908</td>\n",
       "      <td>1934</td>\n",
       "      <td>Of Human Bondage</td>\n",
       "      <td>1935.0</td>\n",
       "      <td>1989</td>\n",
       "      <td>1989.0</td>\n",
       "    </tr>\n",
       "    <tr>\n",
       "      <th>4</th>\n",
       "      <td>Betty White</td>\n",
       "      <td>F</td>\n",
       "      <td>1922</td>\n",
       "      <td>1952</td>\n",
       "      <td>Life with Elilzabeth</td>\n",
       "      <td>1976.0</td>\n",
       "      <td>2016</td>\n",
       "      <td>NaN</td>\n",
       "    </tr>\n",
       "  </tbody>\n",
       "</table>\n",
       "</div>"
      ],
      "text/plain": [
       "       Entertainer Gender  Birth_Year  Yr_of_breakout  \\\n",
       "0            Adele      F        1988            2008   \n",
       "1   Angelina Jolie      F        1975            1999   \n",
       "2  Aretha Franklin      F        1942            1967   \n",
       "3      Bette Davis      F        1908            1934   \n",
       "4      Betty White      F        1922            1952   \n",
       "\n",
       "                         breakthrough_movie  yr_of_first_award  \\\n",
       "0                                        19             2009.0   \n",
       "1                         Girl, Interrupted             1999.0   \n",
       "2  I Never Loved a Man (The Way I Love You)             1968.0   \n",
       "3                          Of Human Bondage             1935.0   \n",
       "4                      Life with Elilzabeth             1976.0   \n",
       "\n",
       "   last_major_work  yr_of_death  \n",
       "0             2016          NaN  \n",
       "1             2016          NaN  \n",
       "2             2014          NaN  \n",
       "3             1989       1989.0  \n",
       "4             2016          NaN  "
      ]
     },
     "execution_count": 11,
     "metadata": {},
     "output_type": "execute_result"
    }
   ],
   "source": [
    "df.head()"
   ]
  },
  {
   "cell_type": "code",
   "execution_count": 12,
   "metadata": {},
   "outputs": [],
   "source": [
    "#ohe for gender - 1 represents male \n",
    "def ohe(x): \n",
    "    if x==\"M\": \n",
    "        return 1 \n",
    "    else: \n",
    "        return 0 \n",
    "df['Gender']=df['Gender'].apply(lambda x: ohe(x))    "
   ]
  },
  {
   "cell_type": "code",
   "execution_count": 13,
   "metadata": {},
   "outputs": [
    {
     "data": {
      "text/plain": [
       "1    50\n",
       "0    20\n",
       "Name: Gender, dtype: int64"
      ]
     },
     "execution_count": 13,
     "metadata": {},
     "output_type": "execute_result"
    }
   ],
   "source": [
    "df.Gender.value_counts()"
   ]
  },
  {
   "cell_type": "code",
   "execution_count": 14,
   "metadata": {},
   "outputs": [
    {
     "data": {
      "text/plain": [
       "40"
      ]
     },
     "execution_count": 14,
     "metadata": {},
     "output_type": "execute_result"
    }
   ],
   "source": [
    "df.yr_of_death.isnull().sum()"
   ]
  },
  {
   "cell_type": "code",
   "execution_count": 15,
   "metadata": {},
   "outputs": [],
   "source": [
    "df['yr_of_death']=df['yr_of_death'].fillna(0)"
   ]
  },
  {
   "cell_type": "code",
   "execution_count": 16,
   "metadata": {},
   "outputs": [],
   "source": [
    "#Birth_Year == y\n",
    "#yr_of_death == x\n",
    "\n",
    "def calc_age(x,y): \n",
    "    today=pd.to_datetime('today').year\n",
    "    if x==0: \n",
    "        return today-y\n",
    "    else: \n",
    "        return x-y"
   ]
  },
  {
   "cell_type": "code",
   "execution_count": 17,
   "metadata": {},
   "outputs": [],
   "source": [
    "df['age']=df[['yr_of_death','Birth_Year']].apply(lambda x: calc_age(*x),axis=1 )"
   ]
  },
  {
   "cell_type": "code",
   "execution_count": 18,
   "metadata": {},
   "outputs": [
    {
     "data": {
      "text/html": [
       "<div>\n",
       "<style scoped>\n",
       "    .dataframe tbody tr th:only-of-type {\n",
       "        vertical-align: middle;\n",
       "    }\n",
       "\n",
       "    .dataframe tbody tr th {\n",
       "        vertical-align: top;\n",
       "    }\n",
       "\n",
       "    .dataframe thead th {\n",
       "        text-align: right;\n",
       "    }\n",
       "</style>\n",
       "<table border=\"1\" class=\"dataframe\">\n",
       "  <thead>\n",
       "    <tr style=\"text-align: right;\">\n",
       "      <th></th>\n",
       "      <th>Entertainer</th>\n",
       "      <th>Gender</th>\n",
       "      <th>Birth_Year</th>\n",
       "      <th>Yr_of_breakout</th>\n",
       "      <th>breakthrough_movie</th>\n",
       "      <th>yr_of_first_award</th>\n",
       "      <th>last_major_work</th>\n",
       "      <th>yr_of_death</th>\n",
       "      <th>age</th>\n",
       "    </tr>\n",
       "  </thead>\n",
       "  <tbody>\n",
       "    <tr>\n",
       "      <th>0</th>\n",
       "      <td>Adele</td>\n",
       "      <td>0</td>\n",
       "      <td>1988</td>\n",
       "      <td>2008</td>\n",
       "      <td>19</td>\n",
       "      <td>2009.0</td>\n",
       "      <td>2016</td>\n",
       "      <td>0.0</td>\n",
       "      <td>33.0</td>\n",
       "    </tr>\n",
       "    <tr>\n",
       "      <th>1</th>\n",
       "      <td>Angelina Jolie</td>\n",
       "      <td>0</td>\n",
       "      <td>1975</td>\n",
       "      <td>1999</td>\n",
       "      <td>Girl, Interrupted</td>\n",
       "      <td>1999.0</td>\n",
       "      <td>2016</td>\n",
       "      <td>0.0</td>\n",
       "      <td>46.0</td>\n",
       "    </tr>\n",
       "    <tr>\n",
       "      <th>2</th>\n",
       "      <td>Aretha Franklin</td>\n",
       "      <td>0</td>\n",
       "      <td>1942</td>\n",
       "      <td>1967</td>\n",
       "      <td>I Never Loved a Man (The Way I Love You)</td>\n",
       "      <td>1968.0</td>\n",
       "      <td>2014</td>\n",
       "      <td>0.0</td>\n",
       "      <td>79.0</td>\n",
       "    </tr>\n",
       "    <tr>\n",
       "      <th>3</th>\n",
       "      <td>Bette Davis</td>\n",
       "      <td>0</td>\n",
       "      <td>1908</td>\n",
       "      <td>1934</td>\n",
       "      <td>Of Human Bondage</td>\n",
       "      <td>1935.0</td>\n",
       "      <td>1989</td>\n",
       "      <td>1989.0</td>\n",
       "      <td>81.0</td>\n",
       "    </tr>\n",
       "    <tr>\n",
       "      <th>4</th>\n",
       "      <td>Betty White</td>\n",
       "      <td>0</td>\n",
       "      <td>1922</td>\n",
       "      <td>1952</td>\n",
       "      <td>Life with Elilzabeth</td>\n",
       "      <td>1976.0</td>\n",
       "      <td>2016</td>\n",
       "      <td>0.0</td>\n",
       "      <td>99.0</td>\n",
       "    </tr>\n",
       "  </tbody>\n",
       "</table>\n",
       "</div>"
      ],
      "text/plain": [
       "       Entertainer  Gender  Birth_Year  Yr_of_breakout  \\\n",
       "0            Adele       0        1988            2008   \n",
       "1   Angelina Jolie       0        1975            1999   \n",
       "2  Aretha Franklin       0        1942            1967   \n",
       "3      Bette Davis       0        1908            1934   \n",
       "4      Betty White       0        1922            1952   \n",
       "\n",
       "                         breakthrough_movie  yr_of_first_award  \\\n",
       "0                                        19             2009.0   \n",
       "1                         Girl, Interrupted             1999.0   \n",
       "2  I Never Loved a Man (The Way I Love You)             1968.0   \n",
       "3                          Of Human Bondage             1935.0   \n",
       "4                      Life with Elilzabeth             1976.0   \n",
       "\n",
       "   last_major_work  yr_of_death   age  \n",
       "0             2016          0.0  33.0  \n",
       "1             2016          0.0  46.0  \n",
       "2             2014          0.0  79.0  \n",
       "3             1989       1989.0  81.0  \n",
       "4             2016          0.0  99.0  "
      ]
     },
     "execution_count": 18,
     "metadata": {},
     "output_type": "execute_result"
    }
   ],
   "source": [
    "df.head()"
   ]
  },
  {
   "cell_type": "code",
   "execution_count": 19,
   "metadata": {},
   "outputs": [],
   "source": [
    "df['breakout_age']=df['Yr_of_breakout']-df['Birth_Year']\n",
    "df['age_of_award']=df['yr_of_first_award']-df['Birth_Year']\n",
    "df['age_of_lastmajorwork']=df['last_major_work']-df['Birth_Year']"
   ]
  },
  {
   "cell_type": "code",
   "execution_count": 20,
   "metadata": {},
   "outputs": [
    {
     "data": {
      "text/plain": [
       "Index(['Entertainer', 'Gender', 'Birth_Year', 'Yr_of_breakout',\n",
       "       'breakthrough_movie', 'yr_of_first_award', 'last_major_work',\n",
       "       'yr_of_death', 'age', 'breakout_age', 'age_of_award',\n",
       "       'age_of_lastmajorwork'],\n",
       "      dtype='object')"
      ]
     },
     "execution_count": 20,
     "metadata": {},
     "output_type": "execute_result"
    }
   ],
   "source": [
    "df.columns"
   ]
  },
  {
   "cell_type": "code",
   "execution_count": 21,
   "metadata": {},
   "outputs": [],
   "source": [
    "df2=df.drop(columns=['Birth_Year','Yr_of_breakout','yr_of_first_award','last_major_work','yr_of_death'],axis=1)"
   ]
  },
  {
   "cell_type": "code",
   "execution_count": 22,
   "metadata": {},
   "outputs": [
    {
     "data": {
      "text/html": [
       "<div>\n",
       "<style scoped>\n",
       "    .dataframe tbody tr th:only-of-type {\n",
       "        vertical-align: middle;\n",
       "    }\n",
       "\n",
       "    .dataframe tbody tr th {\n",
       "        vertical-align: top;\n",
       "    }\n",
       "\n",
       "    .dataframe thead th {\n",
       "        text-align: right;\n",
       "    }\n",
       "</style>\n",
       "<table border=\"1\" class=\"dataframe\">\n",
       "  <thead>\n",
       "    <tr style=\"text-align: right;\">\n",
       "      <th></th>\n",
       "      <th>Entertainer</th>\n",
       "      <th>Gender</th>\n",
       "      <th>breakthrough_movie</th>\n",
       "      <th>age</th>\n",
       "      <th>breakout_age</th>\n",
       "      <th>age_of_award</th>\n",
       "      <th>age_of_lastmajorwork</th>\n",
       "    </tr>\n",
       "  </thead>\n",
       "  <tbody>\n",
       "    <tr>\n",
       "      <th>0</th>\n",
       "      <td>Adele</td>\n",
       "      <td>0</td>\n",
       "      <td>19</td>\n",
       "      <td>33.0</td>\n",
       "      <td>20</td>\n",
       "      <td>21.0</td>\n",
       "      <td>28</td>\n",
       "    </tr>\n",
       "    <tr>\n",
       "      <th>1</th>\n",
       "      <td>Angelina Jolie</td>\n",
       "      <td>0</td>\n",
       "      <td>Girl, Interrupted</td>\n",
       "      <td>46.0</td>\n",
       "      <td>24</td>\n",
       "      <td>24.0</td>\n",
       "      <td>41</td>\n",
       "    </tr>\n",
       "    <tr>\n",
       "      <th>2</th>\n",
       "      <td>Aretha Franklin</td>\n",
       "      <td>0</td>\n",
       "      <td>I Never Loved a Man (The Way I Love You)</td>\n",
       "      <td>79.0</td>\n",
       "      <td>25</td>\n",
       "      <td>26.0</td>\n",
       "      <td>72</td>\n",
       "    </tr>\n",
       "    <tr>\n",
       "      <th>3</th>\n",
       "      <td>Bette Davis</td>\n",
       "      <td>0</td>\n",
       "      <td>Of Human Bondage</td>\n",
       "      <td>81.0</td>\n",
       "      <td>26</td>\n",
       "      <td>27.0</td>\n",
       "      <td>81</td>\n",
       "    </tr>\n",
       "    <tr>\n",
       "      <th>4</th>\n",
       "      <td>Betty White</td>\n",
       "      <td>0</td>\n",
       "      <td>Life with Elilzabeth</td>\n",
       "      <td>99.0</td>\n",
       "      <td>30</td>\n",
       "      <td>54.0</td>\n",
       "      <td>94</td>\n",
       "    </tr>\n",
       "  </tbody>\n",
       "</table>\n",
       "</div>"
      ],
      "text/plain": [
       "       Entertainer  Gender                        breakthrough_movie   age  \\\n",
       "0            Adele       0                                        19  33.0   \n",
       "1   Angelina Jolie       0                         Girl, Interrupted  46.0   \n",
       "2  Aretha Franklin       0  I Never Loved a Man (The Way I Love You)  79.0   \n",
       "3      Bette Davis       0                          Of Human Bondage  81.0   \n",
       "4      Betty White       0                      Life with Elilzabeth  99.0   \n",
       "\n",
       "   breakout_age  age_of_award  age_of_lastmajorwork  \n",
       "0            20          21.0                    28  \n",
       "1            24          24.0                    41  \n",
       "2            25          26.0                    72  \n",
       "3            26          27.0                    81  \n",
       "4            30          54.0                    94  "
      ]
     },
     "execution_count": 22,
     "metadata": {},
     "output_type": "execute_result"
    }
   ],
   "source": [
    "df2.head()"
   ]
  },
  {
   "cell_type": "code",
   "execution_count": 23,
   "metadata": {},
   "outputs": [],
   "source": [
    "df_add_credits=pd.read_csv('/Users/merrillsequeira/Documents/docs/UPGRAD_PGDDS_MODULES/INEURON_INTERNSHIP/extra_data/imdb_top_1000.csv')\n"
   ]
  },
  {
   "cell_type": "code",
   "execution_count": 24,
   "metadata": {},
   "outputs": [],
   "source": [
    "new_act_db1=df_add_credits.groupby(['Star1']).sum() \n",
    "new_act_db2=df_add_credits.groupby(['Star2']).sum() \n",
    "new_act_db3=df_add_credits.groupby(['Star3']).sum() \n",
    "new_act_db4=df_add_credits.groupby(['Star4']).sum() "
   ]
  },
  {
   "cell_type": "code",
   "execution_count": 25,
   "metadata": {},
   "outputs": [
    {
     "data": {
      "text/plain": [
       "(660, 841, 891, 939)"
      ]
     },
     "execution_count": 25,
     "metadata": {},
     "output_type": "execute_result"
    }
   ],
   "source": [
    "len(new_act_db1), len(new_act_db2), len(new_act_db3), len(new_act_db4)"
   ]
  },
  {
   "cell_type": "code",
   "execution_count": 26,
   "metadata": {},
   "outputs": [
    {
     "data": {
      "text/plain": [
       "3331"
      ]
     },
     "execution_count": 26,
     "metadata": {},
     "output_type": "execute_result"
    }
   ],
   "source": [
    "len(new_act_db1)+ len(new_act_db2)+ len(new_act_db3)+ len(new_act_db4)"
   ]
  },
  {
   "cell_type": "code",
   "execution_count": 27,
   "metadata": {},
   "outputs": [],
   "source": [
    "df_actors_add=pd.concat([new_act_db1, new_act_db2, new_act_db3, new_act_db4], keys=['Star1', 'Star2','Star3','Star4']).reset_index()\n"
   ]
  },
  {
   "cell_type": "code",
   "execution_count": 28,
   "metadata": {},
   "outputs": [],
   "source": [
    "#df_actors_add.head()\n",
    "df_actors_add.rename(columns={'level_1':'Entertainer'},  inplace=True)\n",
    "df_actors_add.drop(columns='level_0',inplace=True)"
   ]
  },
  {
   "cell_type": "code",
   "execution_count": 29,
   "metadata": {},
   "outputs": [],
   "source": [
    "#joining with df2 & df_actors_add \n",
    "\n",
    "df_f=df2.merge(df_actors_add,on='Entertainer',how='inner')"
   ]
  },
  {
   "cell_type": "code",
   "execution_count": 30,
   "metadata": {},
   "outputs": [],
   "source": [
    "#df_f.to_excel('actors_db.xlsx')"
   ]
  },
  {
   "cell_type": "code",
   "execution_count": 32,
   "metadata": {},
   "outputs": [
    {
     "data": {
      "text/html": [
       "<div>\n",
       "<style scoped>\n",
       "    .dataframe tbody tr th:only-of-type {\n",
       "        vertical-align: middle;\n",
       "    }\n",
       "\n",
       "    .dataframe tbody tr th {\n",
       "        vertical-align: top;\n",
       "    }\n",
       "\n",
       "    .dataframe thead th {\n",
       "        text-align: right;\n",
       "    }\n",
       "</style>\n",
       "<table border=\"1\" class=\"dataframe\">\n",
       "  <thead>\n",
       "    <tr style=\"text-align: right;\">\n",
       "      <th></th>\n",
       "      <th>Entertainer</th>\n",
       "      <th>Gender</th>\n",
       "      <th>breakthrough_movie</th>\n",
       "      <th>age</th>\n",
       "      <th>breakout_age</th>\n",
       "      <th>age_of_award</th>\n",
       "      <th>age_of_lastmajorwork</th>\n",
       "      <th>IMDB_Rating</th>\n",
       "      <th>Meta_score</th>\n",
       "      <th>No_of_Votes</th>\n",
       "    </tr>\n",
       "  </thead>\n",
       "  <tbody>\n",
       "    <tr>\n",
       "      <th>0</th>\n",
       "      <td>Angelina Jolie</td>\n",
       "      <td>0</td>\n",
       "      <td>Girl, Interrupted</td>\n",
       "      <td>46.0</td>\n",
       "      <td>24</td>\n",
       "      <td>24.0</td>\n",
       "      <td>41</td>\n",
       "      <td>7.7</td>\n",
       "      <td>63.0</td>\n",
       "      <td>239203</td>\n",
       "    </tr>\n",
       "    <tr>\n",
       "      <th>1</th>\n",
       "      <td>Bette Davis</td>\n",
       "      <td>0</td>\n",
       "      <td>Of Human Bondage</td>\n",
       "      <td>81.0</td>\n",
       "      <td>26</td>\n",
       "      <td>27.0</td>\n",
       "      <td>81</td>\n",
       "      <td>16.3</td>\n",
       "      <td>173.0</td>\n",
       "      <td>170597</td>\n",
       "    </tr>\n",
       "    <tr>\n",
       "      <th>2</th>\n",
       "      <td>Carole Lombard</td>\n",
       "      <td>0</td>\n",
       "      <td>Twentieth Century</td>\n",
       "      <td>34.0</td>\n",
       "      <td>26</td>\n",
       "      <td>NaN</td>\n",
       "      <td>34</td>\n",
       "      <td>8.2</td>\n",
       "      <td>86.0</td>\n",
       "      <td>29915</td>\n",
       "    </tr>\n",
       "    <tr>\n",
       "      <th>3</th>\n",
       "      <td>Carrie Fisher</td>\n",
       "      <td>0</td>\n",
       "      <td>Star Wars</td>\n",
       "      <td>60.0</td>\n",
       "      <td>21</td>\n",
       "      <td>NaN</td>\n",
       "      <td>60</td>\n",
       "      <td>33.2</td>\n",
       "      <td>306.0</td>\n",
       "      <td>3536921</td>\n",
       "    </tr>\n",
       "    <tr>\n",
       "      <th>4</th>\n",
       "      <td>Cary Grant</td>\n",
       "      <td>1</td>\n",
       "      <td>She Done Him Wrong, I'm No Angel</td>\n",
       "      <td>82.0</td>\n",
       "      <td>29</td>\n",
       "      <td>66.0</td>\n",
       "      <td>62</td>\n",
       "      <td>47.9</td>\n",
       "      <td>377.0</td>\n",
       "      <td>642511</td>\n",
       "    </tr>\n",
       "  </tbody>\n",
       "</table>\n",
       "</div>"
      ],
      "text/plain": [
       "      Entertainer  Gender                breakthrough_movie   age  \\\n",
       "0  Angelina Jolie       0                 Girl, Interrupted  46.0   \n",
       "1     Bette Davis       0                  Of Human Bondage  81.0   \n",
       "2  Carole Lombard       0                 Twentieth Century  34.0   \n",
       "3   Carrie Fisher       0                         Star Wars  60.0   \n",
       "4      Cary Grant       1  She Done Him Wrong, I'm No Angel  82.0   \n",
       "\n",
       "   breakout_age  age_of_award  age_of_lastmajorwork  IMDB_Rating  Meta_score  \\\n",
       "0            24          24.0                    41          7.7        63.0   \n",
       "1            26          27.0                    81         16.3       173.0   \n",
       "2            26           NaN                    34          8.2        86.0   \n",
       "3            21           NaN                    60         33.2       306.0   \n",
       "4            29          66.0                    62         47.9       377.0   \n",
       "\n",
       "   No_of_Votes  \n",
       "0       239203  \n",
       "1       170597  \n",
       "2        29915  \n",
       "3      3536921  \n",
       "4       642511  "
      ]
     },
     "execution_count": 32,
     "metadata": {},
     "output_type": "execute_result"
    }
   ],
   "source": [
    "df_f.head()"
   ]
  },
  {
   "cell_type": "markdown",
   "metadata": {},
   "source": [
    "#### performing k means clustering for the celebrities "
   ]
  },
  {
   "cell_type": "code",
   "execution_count": 33,
   "metadata": {},
   "outputs": [],
   "source": [
    "import matplotlib.pyplot as plt\n",
    "import seaborn as sns\n",
    "\n",
    "import datetime as dt\n",
    "\n",
    "import sklearn\n",
    "from sklearn.preprocessing import StandardScaler\n",
    "from sklearn.cluster import KMeans\n",
    "from sklearn.metrics import silhouette_score\n",
    "\n",
    "from scipy.cluster.hierarchy import linkage\n",
    "from scipy.cluster.hierarchy import dendrogram\n",
    "from scipy.cluster.hierarchy import cut_tree"
   ]
  },
  {
   "cell_type": "markdown",
   "metadata": {},
   "source": [
    "#### checking for outliers "
   ]
  },
  {
   "cell_type": "code",
   "execution_count": 34,
   "metadata": {},
   "outputs": [],
   "source": [
    "nums=['age','breakout_age','age_of_award','age_of_lastmajorwork','IMDB_Rating','Meta_score','No_of_Votes']"
   ]
  },
  {
   "cell_type": "code",
   "execution_count": 37,
   "metadata": {},
   "outputs": [
    {
     "data": {
      "text/plain": [
       "<Figure size 360x360 with 0 Axes>"
      ]
     },
     "metadata": {},
     "output_type": "display_data"
    },
    {
     "data": {
      "image/png": "[encoded data removed]",
      "text/plain": [
       "<Figure size 576x144 with 1 Axes>"
      ]
     },
     "metadata": {
      "needs_background": "light"
     },
     "output_type": "display_data"
    },
    {
     "data": {
      "image/png": "[encoded data removed]",
      "text/plain": [
       "<Figure size 576x144 with 1 Axes>"
      ]
     },
     "metadata": {
      "needs_background": "light"
     },
     "output_type": "display_data"
    },
    {
     "data": {
      "image/png": "[encoded data removed]",
      "text/plain": [
       "<Figure size 576x144 with 1 Axes>"
      ]
     },
     "metadata": {
      "needs_background": "light"
     },
     "output_type": "display_data"
    },
    {
     "data": {
      "image/png": "[encoded data removed]",
      "text/plain": [
       "<Figure size 576x144 with 1 Axes>"
      ]
     },
     "metadata": {
      "needs_background": "light"
     },
     "output_type": "display_data"
    },
    {
     "data": {
      "image/png": "[encoded data removed]",
      "text/plain": [
       "<Figure size 576x144 with 1 Axes>"
      ]
     },
     "metadata": {
      "needs_background": "light"
     },
     "output_type": "display_data"
    },
    {
     "data": {
      "image/png": "[encoded data removed]",
      "text/plain": [
       "<Figure size 576x144 with 1 Axes>"
      ]
     },
     "metadata": {
      "needs_background": "light"
     },
     "output_type": "display_data"
    },
    {
     "data": {
      "image/png": "[encoded data removed]",
      "text/plain": [
       "<Figure size 576x144 with 1 Axes>"
      ]
     },
     "metadata": {
      "needs_background": "light"
     },
     "output_type": "display_data"
    }
   ],
   "source": [
    "\n",
    "plt.figure(figsize = (5,5))\n",
    "for t in  nums:\n",
    "    plt.subplots(1,1, figsize = (8,2)) \n",
    "    sns.boxplot(x = t, data = df_f)    "
   ]
  },
  {
   "cell_type": "code",
   "execution_count": 38,
   "metadata": {},
   "outputs": [],
   "source": [
    "# removing (statistical) outliers\n",
    "Q1 = df_f.No_of_Votes.quantile(0.05)\n",
    "Q3 = df_f.No_of_Votes.quantile(0.95)\n",
    "IQR = Q3 - Q1\n",
    "df_f = df_f[(df_f.No_of_Votes >= Q1 - 1.5*IQR) & (df_f.No_of_Votes <= Q3 + 1.5*IQR)]\n",
    "\n",
    "\n",
    "Q1 = df_f.Meta_score.quantile(0.05)\n",
    "Q3 = df_f.Meta_score.quantile(0.95)\n",
    "IQR = Q3 - Q1\n",
    "df_f = df_f[(df_f.Meta_score >= Q1 - 1.5*IQR) & (df_f.Meta_score <= Q3 + 1.5*IQR)]\n",
    "\n",
    "#IMDB_Rating\n",
    "\n",
    "Q1 = df_f.IMDB_Rating.quantile(0.05)\n",
    "Q3 = df_f.IMDB_Rating.quantile(0.95)\n",
    "IQR = Q3 - Q1\n",
    "df_f = df_f[(df_f.IMDB_Rating >= Q1 - 1.5*IQR) & (df_f.IMDB_Rating <= Q3 + 1.5*IQR)]\n",
    "\n"
   ]
  },
  {
   "cell_type": "code",
   "execution_count": 39,
   "metadata": {},
   "outputs": [
    {
     "data": {
      "text/plain": [
       "(59, 7)"
      ]
     },
     "execution_count": 39,
     "metadata": {},
     "output_type": "execute_result"
    }
   ],
   "source": [
    "# 2. rescaling\n",
    "rfm_df = df_f[['age','breakout_age','age_of_award','age_of_lastmajorwork','IMDB_Rating','Meta_score','No_of_Votes']]\n",
    "\n",
    "# instantiate\n",
    "scaler = StandardScaler()\n",
    "\n",
    "# fit_transform\n",
    "rfm_df_scaled = scaler.fit_transform(rfm_df)\n",
    "rfm_df_scaled.shape"
   ]
  },
  {
   "cell_type": "code",
   "execution_count": 40,
   "metadata": {},
   "outputs": [
    {
     "data": {
      "text/html": [
       "<div>\n",
       "<style scoped>\n",
       "    .dataframe tbody tr th:only-of-type {\n",
       "        vertical-align: middle;\n",
       "    }\n",
       "\n",
       "    .dataframe tbody tr th {\n",
       "        vertical-align: top;\n",
       "    }\n",
       "\n",
       "    .dataframe thead th {\n",
       "        text-align: right;\n",
       "    }\n",
       "</style>\n",
       "<table border=\"1\" class=\"dataframe\">\n",
       "  <thead>\n",
       "    <tr style=\"text-align: right;\">\n",
       "      <th></th>\n",
       "      <th>age</th>\n",
       "      <th>breakout_age</th>\n",
       "      <th>age_of_award</th>\n",
       "      <th>age_of_lastmajorwork</th>\n",
       "      <th>IMDB_Rating</th>\n",
       "      <th>Meta_score</th>\n",
       "      <th>No_of_Votes</th>\n",
       "    </tr>\n",
       "  </thead>\n",
       "  <tbody>\n",
       "    <tr>\n",
       "      <th>0</th>\n",
       "      <td>-1.318821</td>\n",
       "      <td>-0.750509</td>\n",
       "      <td>-1.200964</td>\n",
       "      <td>-1.435387</td>\n",
       "      <td>-0.622814</td>\n",
       "      <td>-0.774313</td>\n",
       "      <td>-0.433368</td>\n",
       "    </tr>\n",
       "    <tr>\n",
       "      <th>1</th>\n",
       "      <td>0.507715</td>\n",
       "      <td>-0.491562</td>\n",
       "      <td>-1.020318</td>\n",
       "      <td>0.950185</td>\n",
       "      <td>-0.025431</td>\n",
       "      <td>0.166577</td>\n",
       "      <td>-0.530838</td>\n",
       "    </tr>\n",
       "    <tr>\n",
       "      <th>2</th>\n",
       "      <td>-1.945061</td>\n",
       "      <td>-0.491562</td>\n",
       "      <td>NaN</td>\n",
       "      <td>-1.852862</td>\n",
       "      <td>-0.588082</td>\n",
       "      <td>-0.577582</td>\n",
       "      <td>-0.730707</td>\n",
       "    </tr>\n",
       "    <tr>\n",
       "      <th>3</th>\n",
       "      <td>-0.588206</td>\n",
       "      <td>-1.138930</td>\n",
       "      <td>NaN</td>\n",
       "      <td>-0.302240</td>\n",
       "      <td>1.148497</td>\n",
       "      <td>1.304198</td>\n",
       "      <td>4.251751</td>\n",
       "    </tr>\n",
       "    <tr>\n",
       "      <th>4</th>\n",
       "      <td>0.559902</td>\n",
       "      <td>-0.103140</td>\n",
       "      <td>1.328086</td>\n",
       "      <td>-0.182961</td>\n",
       "      <td>2.169605</td>\n",
       "      <td>1.911500</td>\n",
       "      <td>0.139618</td>\n",
       "    </tr>\n",
       "  </tbody>\n",
       "</table>\n",
       "</div>"
      ],
      "text/plain": [
       "        age  breakout_age  age_of_award  age_of_lastmajorwork  IMDB_Rating  \\\n",
       "0 -1.318821     -0.750509     -1.200964             -1.435387    -0.622814   \n",
       "1  0.507715     -0.491562     -1.020318              0.950185    -0.025431   \n",
       "2 -1.945061     -0.491562           NaN             -1.852862    -0.588082   \n",
       "3 -0.588206     -1.138930           NaN             -0.302240     1.148497   \n",
       "4  0.559902     -0.103140      1.328086             -0.182961     2.169605   \n",
       "\n",
       "   Meta_score  No_of_Votes  \n",
       "0   -0.774313    -0.433368  \n",
       "1    0.166577    -0.530838  \n",
       "2   -0.577582    -0.730707  \n",
       "3    1.304198     4.251751  \n",
       "4    1.911500     0.139618  "
      ]
     },
     "execution_count": 40,
     "metadata": {},
     "output_type": "execute_result"
    }
   ],
   "source": [
    "rfm_df_scaled = pd.DataFrame(rfm_df_scaled)\n",
    "rfm_df_scaled.columns = ['age','breakout_age','age_of_award','age_of_lastmajorwork','IMDB_Rating','Meta_score','No_of_Votes']\n",
    "rfm_df_scaled.head()\n"
   ]
  },
  {
   "cell_type": "code",
   "execution_count": 42,
   "metadata": {},
   "outputs": [],
   "source": [
    "rfm_df_scaled.fillna(0,inplace=True)"
   ]
  },
  {
   "cell_type": "code",
   "execution_count": 44,
   "metadata": {},
   "outputs": [
    {
     "data": {
      "text/html": [
       "<div>\n",
       "<style scoped>\n",
       "    .dataframe tbody tr th:only-of-type {\n",
       "        vertical-align: middle;\n",
       "    }\n",
       "\n",
       "    .dataframe tbody tr th {\n",
       "        vertical-align: top;\n",
       "    }\n",
       "\n",
       "    .dataframe thead th {\n",
       "        text-align: right;\n",
       "    }\n",
       "</style>\n",
       "<table border=\"1\" class=\"dataframe\">\n",
       "  <thead>\n",
       "    <tr style=\"text-align: right;\">\n",
       "      <th></th>\n",
       "      <th>age</th>\n",
       "      <th>breakout_age</th>\n",
       "      <th>age_of_award</th>\n",
       "      <th>age_of_lastmajorwork</th>\n",
       "      <th>IMDB_Rating</th>\n",
       "      <th>Meta_score</th>\n",
       "      <th>No_of_Votes</th>\n",
       "    </tr>\n",
       "  </thead>\n",
       "  <tbody>\n",
       "    <tr>\n",
       "      <th>0</th>\n",
       "      <td>-1.318821</td>\n",
       "      <td>-0.750509</td>\n",
       "      <td>-1.200964</td>\n",
       "      <td>-1.435387</td>\n",
       "      <td>-0.622814</td>\n",
       "      <td>-0.774313</td>\n",
       "      <td>-0.433368</td>\n",
       "    </tr>\n",
       "    <tr>\n",
       "      <th>1</th>\n",
       "      <td>0.507715</td>\n",
       "      <td>-0.491562</td>\n",
       "      <td>-1.020318</td>\n",
       "      <td>0.950185</td>\n",
       "      <td>-0.025431</td>\n",
       "      <td>0.166577</td>\n",
       "      <td>-0.530838</td>\n",
       "    </tr>\n",
       "    <tr>\n",
       "      <th>2</th>\n",
       "      <td>-1.945061</td>\n",
       "      <td>-0.491562</td>\n",
       "      <td>0.000000</td>\n",
       "      <td>-1.852862</td>\n",
       "      <td>-0.588082</td>\n",
       "      <td>-0.577582</td>\n",
       "      <td>-0.730707</td>\n",
       "    </tr>\n",
       "    <tr>\n",
       "      <th>3</th>\n",
       "      <td>-0.588206</td>\n",
       "      <td>-1.138930</td>\n",
       "      <td>0.000000</td>\n",
       "      <td>-0.302240</td>\n",
       "      <td>1.148497</td>\n",
       "      <td>1.304198</td>\n",
       "      <td>4.251751</td>\n",
       "    </tr>\n",
       "    <tr>\n",
       "      <th>4</th>\n",
       "      <td>0.559902</td>\n",
       "      <td>-0.103140</td>\n",
       "      <td>1.328086</td>\n",
       "      <td>-0.182961</td>\n",
       "      <td>2.169605</td>\n",
       "      <td>1.911500</td>\n",
       "      <td>0.139618</td>\n",
       "    </tr>\n",
       "  </tbody>\n",
       "</table>\n",
       "</div>"
      ],
      "text/plain": [
       "        age  breakout_age  age_of_award  age_of_lastmajorwork  IMDB_Rating  \\\n",
       "0 -1.318821     -0.750509     -1.200964             -1.435387    -0.622814   \n",
       "1  0.507715     -0.491562     -1.020318              0.950185    -0.025431   \n",
       "2 -1.945061     -0.491562      0.000000             -1.852862    -0.588082   \n",
       "3 -0.588206     -1.138930      0.000000             -0.302240     1.148497   \n",
       "4  0.559902     -0.103140      1.328086             -0.182961     2.169605   \n",
       "\n",
       "   Meta_score  No_of_Votes  \n",
       "0   -0.774313    -0.433368  \n",
       "1    0.166577    -0.530838  \n",
       "2   -0.577582    -0.730707  \n",
       "3    1.304198     4.251751  \n",
       "4    1.911500     0.139618  "
      ]
     },
     "execution_count": 44,
     "metadata": {},
     "output_type": "execute_result"
    }
   ],
   "source": [
    "rfm_df_scaled.head()"
   ]
  },
  {
   "cell_type": "code",
   "execution_count": 45,
   "metadata": {},
   "outputs": [
    {
     "data": {
      "text/plain": [
       "KMeans(algorithm='auto', copy_x=True, init='k-means++', max_iter=50,\n",
       "       n_clusters=4, n_init=10, n_jobs=None, precompute_distances='auto',\n",
       "       random_state=None, tol=0.0001, verbose=0)"
      ]
     },
     "execution_count": 45,
     "metadata": {},
     "output_type": "execute_result"
    }
   ],
   "source": [
    "# k-means with some arbitrary k\n",
    "kmeans = KMeans(n_clusters=4, max_iter=50)\n",
    "kmeans.fit(rfm_df_scaled)"
   ]
  },
  {
   "cell_type": "code",
   "execution_count": 46,
   "metadata": {},
   "outputs": [
    {
     "data": {
      "text/plain": [
       "array([0, 3, 0, 2, 2, 3, 0, 0, 3, 2, 3, 3, 3, 3, 2, 3, 0, 3, 2, 3, 3, 3,\n",
       "       2, 0, 0, 0, 0, 3, 0, 2, 3, 2, 0, 0, 3, 3, 0, 0, 0, 3, 3, 3, 2, 1,\n",
       "       1, 1, 1, 3, 3, 2, 3, 3, 3, 3, 3, 3, 0, 0, 0], dtype=int32)"
      ]
     },
     "execution_count": 46,
     "metadata": {},
     "output_type": "execute_result"
    }
   ],
   "source": [
    "kmeans.labels_"
   ]
  },
  {
   "cell_type": "code",
   "execution_count": 47,
   "metadata": {},
   "outputs": [
    {
     "data": {
      "text/plain": [
       "[<matplotlib.lines.Line2D at 0x1a2d95fc90>]"
      ]
     },
     "execution_count": 47,
     "metadata": {},
     "output_type": "execute_result"
    },
    {
     "data": {
      "image/png": "[encoded data removed]",
      "text/plain": [
       "<Figure size 432x288 with 1 Axes>"
      ]
     },
     "metadata": {
      "needs_background": "light"
     },
     "output_type": "display_data"
    }
   ],
   "source": [
    "# elbow-curve/SSD\n",
    "ssd = []\n",
    "range_n_clusters = [2, 3, 4, 5, 6, 7, 8]\n",
    "for num_clusters in range_n_clusters:\n",
    "    kmeans = KMeans(n_clusters=num_clusters, max_iter=50)\n",
    "    kmeans.fit(rfm_df_scaled)\n",
    "    \n",
    "    ssd.append(kmeans.inertia_)\n",
    "    \n",
    "# plot the SSDs for each n_clusters\n",
    "# ssd\n",
    "plt.plot(ssd)"
   ]
  },
  {
   "cell_type": "code",
   "execution_count": 48,
   "metadata": {},
   "outputs": [
    {
     "name": "stdout",
     "output_type": "stream",
     "text": [
      "For n_clusters=2, the silhouette score is 0.2718835691806645\n",
      "For n_clusters=3, the silhouette score is 0.3196098826073381\n",
      "For n_clusters=4, the silhouette score is 0.34819925222057135\n",
      "For n_clusters=5, the silhouette score is 0.3454182396514351\n",
      "For n_clusters=6, the silhouette score is 0.3167230501063443\n",
      "For n_clusters=7, the silhouette score is 0.2918722457625551\n",
      "For n_clusters=8, the silhouette score is 0.29697253252933686\n"
     ]
    }
   ],
   "source": [
    "# silhouette analysis\n",
    "range_n_clusters = [2, 3, 4, 5, 6, 7, 8]\n",
    "\n",
    "for num_clusters in range_n_clusters:\n",
    "    \n",
    "    # intialise kmeans\n",
    "    kmeans = KMeans(n_clusters=num_clusters, max_iter=50)\n",
    "    kmeans.fit(rfm_df_scaled)\n",
    "    \n",
    "    cluster_labels = kmeans.labels_\n",
    "    \n",
    "    # silhouette score\n",
    "    silhouette_avg = silhouette_score(rfm_df_scaled, cluster_labels)\n",
    "    print(\"For n_clusters={0}, the silhouette score is {1}\".format(num_clusters, silhouette_avg))\n",
    "    \n",
    "    "
   ]
  },
  {
   "cell_type": "code",
   "execution_count": 49,
   "metadata": {},
   "outputs": [
    {
     "data": {
      "text/plain": [
       "KMeans(algorithm='auto', copy_x=True, init='k-means++', max_iter=50,\n",
       "       n_clusters=3, n_init=10, n_jobs=None, precompute_distances='auto',\n",
       "       random_state=None, tol=0.0001, verbose=0)"
      ]
     },
     "execution_count": 49,
     "metadata": {},
     "output_type": "execute_result"
    }
   ],
   "source": [
    "# final model with k=3\n",
    "kmeans = KMeans(n_clusters=3, max_iter=50)\n",
    "kmeans.fit(rfm_df_scaled)"
   ]
  },
  {
   "cell_type": "code",
   "execution_count": 50,
   "metadata": {},
   "outputs": [
    {
     "data": {
      "text/plain": [
       "array([1, 0, 1, 2, 2, 0, 1, 1, 0, 2, 1, 0, 0, 0, 2, 0, 1, 1, 2, 0, 0, 0,\n",
       "       2, 1, 1, 1, 1, 1, 1, 0, 0, 2, 1, 1, 0, 0, 1, 1, 1, 0, 0, 0, 2, 0,\n",
       "       0, 0, 0, 1, 1, 2, 0, 0, 0, 0, 0, 0, 1, 1, 1], dtype=int32)"
      ]
     },
     "execution_count": 50,
     "metadata": {},
     "output_type": "execute_result"
    }
   ],
   "source": [
    "kmeans.labels_"
   ]
  },
  {
   "cell_type": "code",
   "execution_count": 51,
   "metadata": {},
   "outputs": [
    {
     "data": {
      "text/html": [
       "<div>\n",
       "<style scoped>\n",
       "    .dataframe tbody tr th:only-of-type {\n",
       "        vertical-align: middle;\n",
       "    }\n",
       "\n",
       "    .dataframe tbody tr th {\n",
       "        vertical-align: top;\n",
       "    }\n",
       "\n",
       "    .dataframe thead th {\n",
       "        text-align: right;\n",
       "    }\n",
       "</style>\n",
       "<table border=\"1\" class=\"dataframe\">\n",
       "  <thead>\n",
       "    <tr style=\"text-align: right;\">\n",
       "      <th></th>\n",
       "      <th>Entertainer</th>\n",
       "      <th>Gender</th>\n",
       "      <th>breakthrough_movie</th>\n",
       "      <th>age</th>\n",
       "      <th>breakout_age</th>\n",
       "      <th>age_of_award</th>\n",
       "      <th>age_of_lastmajorwork</th>\n",
       "      <th>IMDB_Rating</th>\n",
       "      <th>Meta_score</th>\n",
       "      <th>No_of_Votes</th>\n",
       "      <th>cluster_id</th>\n",
       "    </tr>\n",
       "  </thead>\n",
       "  <tbody>\n",
       "    <tr>\n",
       "      <th>0</th>\n",
       "      <td>Angelina Jolie</td>\n",
       "      <td>0</td>\n",
       "      <td>Girl, Interrupted</td>\n",
       "      <td>46.0</td>\n",
       "      <td>24</td>\n",
       "      <td>24.0</td>\n",
       "      <td>41</td>\n",
       "      <td>7.7</td>\n",
       "      <td>63.0</td>\n",
       "      <td>239203</td>\n",
       "      <td>1</td>\n",
       "    </tr>\n",
       "    <tr>\n",
       "      <th>1</th>\n",
       "      <td>Bette Davis</td>\n",
       "      <td>0</td>\n",
       "      <td>Of Human Bondage</td>\n",
       "      <td>81.0</td>\n",
       "      <td>26</td>\n",
       "      <td>27.0</td>\n",
       "      <td>81</td>\n",
       "      <td>16.3</td>\n",
       "      <td>173.0</td>\n",
       "      <td>170597</td>\n",
       "      <td>0</td>\n",
       "    </tr>\n",
       "    <tr>\n",
       "      <th>2</th>\n",
       "      <td>Carole Lombard</td>\n",
       "      <td>0</td>\n",
       "      <td>Twentieth Century</td>\n",
       "      <td>34.0</td>\n",
       "      <td>26</td>\n",
       "      <td>NaN</td>\n",
       "      <td>34</td>\n",
       "      <td>8.2</td>\n",
       "      <td>86.0</td>\n",
       "      <td>29915</td>\n",
       "      <td>1</td>\n",
       "    </tr>\n",
       "    <tr>\n",
       "      <th>3</th>\n",
       "      <td>Carrie Fisher</td>\n",
       "      <td>0</td>\n",
       "      <td>Star Wars</td>\n",
       "      <td>60.0</td>\n",
       "      <td>21</td>\n",
       "      <td>NaN</td>\n",
       "      <td>60</td>\n",
       "      <td>33.2</td>\n",
       "      <td>306.0</td>\n",
       "      <td>3536921</td>\n",
       "      <td>2</td>\n",
       "    </tr>\n",
       "    <tr>\n",
       "      <th>4</th>\n",
       "      <td>Cary Grant</td>\n",
       "      <td>1</td>\n",
       "      <td>She Done Him Wrong, I'm No Angel</td>\n",
       "      <td>82.0</td>\n",
       "      <td>29</td>\n",
       "      <td>66.0</td>\n",
       "      <td>62</td>\n",
       "      <td>47.9</td>\n",
       "      <td>377.0</td>\n",
       "      <td>642511</td>\n",
       "      <td>2</td>\n",
       "    </tr>\n",
       "  </tbody>\n",
       "</table>\n",
       "</div>"
      ],
      "text/plain": [
       "      Entertainer  Gender                breakthrough_movie   age  \\\n",
       "0  Angelina Jolie       0                 Girl, Interrupted  46.0   \n",
       "1     Bette Davis       0                  Of Human Bondage  81.0   \n",
       "2  Carole Lombard       0                 Twentieth Century  34.0   \n",
       "3   Carrie Fisher       0                         Star Wars  60.0   \n",
       "4      Cary Grant       1  She Done Him Wrong, I'm No Angel  82.0   \n",
       "\n",
       "   breakout_age  age_of_award  age_of_lastmajorwork  IMDB_Rating  Meta_score  \\\n",
       "0            24          24.0                    41          7.7        63.0   \n",
       "1            26          27.0                    81         16.3       173.0   \n",
       "2            26           NaN                    34          8.2        86.0   \n",
       "3            21           NaN                    60         33.2       306.0   \n",
       "4            29          66.0                    62         47.9       377.0   \n",
       "\n",
       "   No_of_Votes  cluster_id  \n",
       "0       239203           1  \n",
       "1       170597           0  \n",
       "2        29915           1  \n",
       "3      3536921           2  \n",
       "4       642511           2  "
      ]
     },
     "execution_count": 51,
     "metadata": {},
     "output_type": "execute_result"
    }
   ],
   "source": [
    "# assign the label\n",
    "df_f['cluster_id'] = kmeans.labels_\n",
    "df_f.head()"
   ]
  },
  {
   "cell_type": "code",
   "execution_count": 52,
   "metadata": {},
   "outputs": [
    {
     "data": {
      "text/plain": [
       "<matplotlib.axes._subplots.AxesSubplot at 0x1a2d96bc90>"
      ]
     },
     "execution_count": 52,
     "metadata": {},
     "output_type": "execute_result"
    },
    {
     "data": {
      "image/png": "[encoded data removed]",
      "text/plain": [
       "<Figure size 432x288 with 1 Axes>"
      ]
     },
     "metadata": {
      "needs_background": "light"
     },
     "output_type": "display_data"
    }
   ],
   "source": [
    "# plot\n",
    "sns.boxplot(x='cluster_id', y='No_of_Votes', data=df_f)"
   ]
  },
  {
   "cell_type": "code",
   "execution_count": 53,
   "metadata": {},
   "outputs": [],
   "source": [
    "df_f.to_excel('actors_db2_wtlabels.xlsx')"
   ]
  },
  {
   "cell_type": "code",
   "execution_count": null,
   "metadata": {},
   "outputs": [],
   "source": []
  },
  {
   "cell_type": "code",
   "execution_count": null,
   "metadata": {},
   "outputs": [],
   "source": []
  }
 ],
 "metadata": {
  "kernelspec": {
   "display_name": "Python 3",
   "language": "python",
   "name": "python3"
  },
  "language_info": {
   "codemirror_mode": {
    "name": "ipython",
    "version": 3
   },
   "file_extension": ".py",
   "mimetype": "text/x-python",
   "name": "python",
   "nbconvert_exporter": "python",
   "pygments_lexer": "ipython3",
   "version": "3.7.6"
  }
 },
 "nbformat": 4,
 "nbformat_minor": 4
}
